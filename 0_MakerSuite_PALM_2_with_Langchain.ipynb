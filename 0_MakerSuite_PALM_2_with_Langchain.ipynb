{
  "nbformat": 4,
  "nbformat_minor": 0,
  "metadata": {
    "colab": {
      "provenance": [],
      "authorship_tag": "ABX9TyM0ysUptMp2VlbquMgAOcrW",
      "include_colab_link": true
    },
    "kernelspec": {
      "name": "python3",
      "display_name": "Python 3"
    },
    "language_info": {
      "name": "python"
    }
  },
  "cells": [
    {
      "cell_type": "markdown",
      "metadata": {
        "id": "view-in-github",
        "colab_type": "text"
      },
      "source": [
        "<a href=\"https://colab.research.google.com/github/VincentChong123/llm-rag/blob/main/0_MakerSuite_PALM_2_with_Langchain.ipynb\" target=\"_parent\"><img src=\"https://colab.research.google.com/assets/colab-badge.svg\" alt=\"Open In Colab\"/></a>"
      ]
    },
    {
      "cell_type": "code",
      "execution_count": null,
      "metadata": {
        "id": "7Ky9cIYWz5yC"
      },
      "outputs": [],
      "source": []
    },
    {
      "cell_type": "markdown",
      "source": [
        "# PaLM-2 with Langchain (MakerSuite)\n",
        "\n"
      ],
      "metadata": {
        "id": "hsVX1PwsfjcU"
      }
    },
    {
      "cell_type": "markdown",
      "source": [],
      "metadata": {
        "id": "sH5dgzvCf7Dx"
      }
    },
    {
      "cell_type": "markdown",
      "source": [
        "# PaLM-1 with Langchain (Google)"
      ],
      "metadata": {
        "id": "3_oDECblflsF"
      }
    },
    {
      "cell_type": "code",
      "source": [
        "#"
      ],
      "metadata": {
        "id": "IN0fME-iffJH"
      },
      "execution_count": null,
      "outputs": []
    }
  ]
}